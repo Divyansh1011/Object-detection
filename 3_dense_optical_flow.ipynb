{
 "cells": [
  {
   "cell_type": "code",
   "execution_count": 9,
   "metadata": {},
   "outputs": [
    {
     "name": "stdout",
     "output_type": "stream",
     "text": [
      "(360, 640, 3)\n"
     ]
    }
   ],
   "source": [
    "import cv2\n",
    "import numpy as np\n",
    "\n",
    "cap = cv2.VideoCapture('videos/car.mp4')\n",
    "\n",
    "ret, first_frame = cap.read()\n",
    "# print(first_frame, type(first_frame))\n",
    "print(first_frame.shape)\n",
    "\n",
    "prev_gray = cv2.cvtColor(first_frame, cv2.COLOR_BGR2GRAY)\n",
    "\n",
    "mask = np.zeros_like(first_frame)\n",
    "\n",
    "\n",
    "mask[..., 1] = 255\n",
    "\n",
    "while(cap.isOpened()):\n",
    "    ret, frame = cap.read()\n",
    "    try:\n",
    "        cv2.imshow('input', frame)\n",
    "    except:\n",
    "        cap.release()\n",
    "        cv2.destroyAllWindows()\n",
    "        break\n",
    "\n",
    "    gray = cv2.cvtColor(frame, cv2.COLOR_BGR2GRAY)\n",
    "    \n",
    "    flow = cv2.calcOpticalFlowFarneback(prev_gray,\n",
    "                                       gray,\n",
    "                                       None,\n",
    "                                       0.5,\n",
    "                                       3,\n",
    "                                       15,\n",
    "                                       3, \n",
    "                                       5,\n",
    "                                       1.2,\n",
    "                                       0)\n",
    "    magn, angle = cv2.cartToPolar(flow[..., 0],\n",
    "                                 flow[..., 1])\n",
    "    \n",
    "    # Set image hue depending on optical flow direction\n",
    "    mask[..., 0] = angle*180/np.pi/2\n",
    "    \n",
    "    # Normalize magnitude\n",
    "    mask[..., 2] = cv2.normalize(magn,\n",
    "                                None,\n",
    "                                0,\n",
    "                                255,\n",
    "                                cv2.NORM_MINMAX)\n",
    "    \n",
    "    # Convert hsv to rgb\n",
    "    rgb = cv2.cvtColor(mask, cv2.COLOR_HSV2RGB)\n",
    "    \n",
    "    cv2.imshow('Dense Optical Flow', rgb)\n",
    "    prev_gray = gray\n",
    "    \n",
    "    if cv2.waitKey(10) & 0xFF == ord('q'):\n",
    "        break\n",
    "        \n",
    "cap.release()\n",
    "cv2.destroyAllWindows()\n",
    "    "
   ]
  },
  {
   "cell_type": "code",
   "execution_count": 6,
   "metadata": {},
   "outputs": [],
   "source": [
    "cv2.destroyAllWindows()\n"
   ]
  },
  {
   "cell_type": "code",
   "execution_count": null,
   "metadata": {},
   "outputs": [],
   "source": []
  }
 ],
 "metadata": {
  "kernelspec": {
   "display_name": "Python 3",
   "language": "python",
   "name": "python3"
  },
  "language_info": {
   "codemirror_mode": {
    "name": "ipython",
    "version": 3
   },
   "file_extension": ".py",
   "mimetype": "text/x-python",
   "name": "python",
   "nbconvert_exporter": "python",
   "pygments_lexer": "ipython3",
   "version": "3.7.6"
  }
 },
 "nbformat": 4,
 "nbformat_minor": 4
}
