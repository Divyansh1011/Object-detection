{
 "cells": [
  {
   "cell_type": "code",
   "execution_count": 7,
   "metadata": {},
   "outputs": [
    {
     "name": "stdout",
     "output_type": "stream",
     "text": [
      "[[105  67 205 205]]\n"
     ]
    }
   ],
   "source": [
    "import cv2\n",
    "import numpy as np\n",
    "\n",
    "cap = cv2.VideoCapture('videos/face.mp4')\n",
    "\n",
    "while True:\n",
    "    ret, frame = cap.read()\n",
    "    face_casc = cv2.CascadeClassifier('haarcascades/haarcascade_frontalface_default.xml')\n",
    "    face_rects = face_casc.detectMultiScale(frame)\n",
    "    if len(face_rects)>0:\n",
    "        print(face_rects)\n",
    "        break\n",
    "# print(face_rects)\n",
    "\n",
    "# converting list into tuple\n",
    "face_x, face_y, w, h = tuple(face_rects[0])\n",
    "track_window = (face_x, face_y, w, h)\n",
    "\n",
    "# ROI for tracking\n",
    "roi = frame[face_y:face_y+h,\n",
    "           face_x:face_x+w]\n",
    "\n",
    "# hsv color mapping\n",
    "hsv_roi = cv2.cvtColor(roi, cv2.COLOR_BGR2HSV)\n"
   ]
  },
  {
   "cell_type": "code",
   "execution_count": 8,
   "metadata": {},
   "outputs": [],
   "source": [
    "# histogram to target on each frame for mean shift calculation\n",
    "roi_hist = cv2.calcHist([hsv_roi],\n",
    "                       [0],\n",
    "                       None,\n",
    "                       [180],\n",
    "                       [0,180])\n",
    "\n",
    "# normalizing the histogram\n",
    "cv2.normalize(roi_hist,\n",
    "             roi_hist,\n",
    "             0,\n",
    "             255,\n",
    "             cv2.NORM_MINMAX)\n",
    "\n",
    "# setting termination criteria\n",
    "term_crit = (cv2.TERM_CRITERIA_EPS | cv2.TERM_CRITERIA_COUNT, 10, 1)\n"
   ]
  },
  {
   "cell_type": "code",
   "execution_count": 9,
   "metadata": {},
   "outputs": [],
   "source": [
    "while True:\n",
    "    ret, frame = cap.read()\n",
    "    \n",
    "    if ret==True:\n",
    "        hsv = cv2.cvtColor(frame, cv2.COLOR_BGR2HSV)\n",
    "        \n",
    "        dest = cv2.calcBackProject([hsv],\n",
    "                                      [0],\n",
    "                                      roi_hist,\n",
    "                                      [0,180],\n",
    "                                      1)\n",
    "        # Cam shift to get new coordinated of rectangle\n",
    "        ret, track_window = cv2.CamShift(dest,\n",
    "                                         track_window,\n",
    "                                         term_crit)\n",
    "        # drawing new rectangle\n",
    "        pts = cv2.boxPoints(ret)\n",
    "        pts = np.int0(pts)\n",
    "        img2 = cv2.polylines(frame,\n",
    "                            [pts],\n",
    "                            True,\n",
    "                            (0,255,0),\n",
    "                            5)\n",
    "        cv2.imshow(\"Cam Shift\", img2)\n",
    "        \n",
    "        if cv2.waitKey(30) & 0xFF==27:\n",
    "            break\n",
    "    else:\n",
    "        break\n",
    "        \n",
    "cap.release()\n",
    "cv2.destroyAllWindows()"
   ]
  },
  {
   "cell_type": "code",
   "execution_count": null,
   "metadata": {},
   "outputs": [],
   "source": []
  }
 ],
 "metadata": {
  "kernelspec": {
   "display_name": "Python 3",
   "language": "python",
   "name": "python3"
  },
  "language_info": {
   "codemirror_mode": {
    "name": "ipython",
    "version": 3
   },
   "file_extension": ".py",
   "mimetype": "text/x-python",
   "name": "python",
   "nbconvert_exporter": "python",
   "pygments_lexer": "ipython3",
   "version": "3.7.6"
  }
 },
 "nbformat": 4,
 "nbformat_minor": 4
}
