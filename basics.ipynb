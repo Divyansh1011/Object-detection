{
 "cells": [
  {
   "cell_type": "code",
   "execution_count": null,
   "metadata": {},
   "outputs": [],
   "source": [
    "# CascadeClassifier\n",
    "\"\"\"Detects objects of different sizes in input image, detected objects \n",
    "are returned as list of rectangles.\"\"\"\n",
    "\n",
    "# HSV colorspace - hue, saturation, value\n",
    "\"\"\"Hue channel models color type and thus is very useful in image \n",
    "processing tasks that need to segment objects based on its color. \n",
    "Vairiation of saturation goes from unsaturated to represent shades of\n",
    "gray and fully saturated (no white component). Value channel describes \n",
    "brightness of intensity of color.\"\"\""
   ]
  }
 ],
 "metadata": {
  "kernelspec": {
   "display_name": "Python 3",
   "language": "python",
   "name": "python3"
  },
  "language_info": {
   "codemirror_mode": {
    "name": "ipython",
    "version": 3
   },
   "file_extension": ".py",
   "mimetype": "text/x-python",
   "name": "python",
   "nbconvert_exporter": "python",
   "pygments_lexer": "ipython3",
   "version": "3.7.6"
  }
 },
 "nbformat": 4,
 "nbformat_minor": 4
}
