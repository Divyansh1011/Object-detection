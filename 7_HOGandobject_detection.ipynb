{
 "cells": [
  {
   "cell_type": "code",
   "execution_count": null,
   "metadata": {},
   "outputs": [],
   "source": [
    "# Histogram of oriented gradients and Linear SVM method for object\n",
    "# detection\n",
    "\"\"\"Step 1:\n",
    "Sample P positive samples from your training data of the object(s) you\n",
    "want to detect and extract HOG descriptors from these samples.\n",
    "Step 2:\n",
    "Sample N negative samples from a negative training set that does not\n",
    "contain any of the objects you want to detect and extract HOG \n",
    "descriptors from these samples as well. In practice N >> P.\n",
    "Step 3:\n",
    "Train a Linear Support Vector Machine on your positive and negative \n",
    "samples.\n",
    "Step 4:\n",
    "Apply hard-negative mining. For each image and each possible scale of \n",
    "each image in your negative training set, apply the sliding window \n",
    "technique and slide your window across the image. At each window \n",
    "compute your HOG descriptors and apply your classifier. If your \n",
    "classifier (incorrectly) classifies a given window as an object (and\n",
    "it will, there will absolutely be false-positives), record the feature\n",
    "vector associated with the false-positive patch along with probability\n",
    "of the classification. This approach is called hard-negative mining.\n",
    "Step 5:\n",
    "Take the false-positive samples found during the hard-negative mining\n",
    "stage, sort them by their confidence (i.e. probability) and re-train \n",
    "your classifier using these hard-negative samples. (Note: You can \n",
    "iteratively apply steps 4-5, but in practice one stage of hard-negative\n",
    "mining usually [not not always] tends to be enough. The gains in \n",
    "accuracy on subsequent runs of hard-negative mining tend to be \n",
    "minimal.)\n",
    "\n",
    "Step 6:\n",
    "Your classifier is now trained and can be applied to your test dataset.\n",
    "Again, just like in Step 4, for each image in your test set, and for \n",
    "each scale of the image, apply the sliding window technique. At each \n",
    "window extract HOG descriptors and apply your classifier. If your \n",
    "classifier detects an object with sufficiently large probability, \n",
    "record the bounding box of the window. After you have finished scanning\n",
    "the image, apply non-maximum suppression to remove redundant and \n",
    "overlapping bounding boxes.\n",
    "\"\"\"\n"
   ]
  },
  {
   "cell_type": "code",
   "execution_count": 4,
   "metadata": {},
   "outputs": [],
   "source": [
    "from __future__ import print_function\n",
    "from imutils.object_detection import non_max_suppression\n",
    "from imutils import paths\n",
    "import numpy as np\n",
    "import argparse\n",
    "import imutils\n",
    "import cv2\n",
    "import os"
   ]
  },
  {
   "cell_type": "code",
   "execution_count": 5,
   "metadata": {},
   "outputs": [],
   "source": [
    "# pip install --user imutils"
   ]
  },
  {
   "cell_type": "code",
   "execution_count": 6,
   "metadata": {},
   "outputs": [],
   "source": [
    "# initialize HOG descriptor\n",
    "hog = cv2.HOGDescriptor()\n",
    "\n",
    "# call set svm detector to set SVM to be pretrained pedestrian detector\n",
    "hog.setSVMDetector(cv2.HOGDescriptor_getDefaultPeopleDetector())\n",
    "\n"
   ]
  },
  {
   "cell_type": "code",
   "execution_count": 25,
   "metadata": {},
   "outputs": [
    {
     "name": "stdout",
     "output_type": "stream",
     "text": [
      "Image: p4.jpeg: 1 original bounding boxes, 1 after suppression\n",
      "Image: p7.jpeg: 1 original bounding boxes, 1 after suppression\n",
      "Image: p2.jpeg: 3 original bounding boxes, 3 after suppression\n",
      "Image: p5.jpeg: 2 original bounding boxes, 2 after suppression\n",
      "Image: p6.jpeg: 3 original bounding boxes, 3 after suppression\n",
      "Image: p8.jpeg: 2 original bounding boxes, 2 after suppression\n",
      "Image: p1.jpeg: 2 original bounding boxes, 2 after suppression\n",
      "Image: p3.jpeg: 1 original bounding boxes, 1 after suppression\n"
     ]
    }
   ],
   "source": [
    "cd = os.getcwd()\n",
    "path = cd+\"/Images/1_HOG_Pedestrian/\"\n",
    "for filename in os.listdir(path):\n",
    "    img_path = os.path.join(path, filename)\n",
    "    image = cv2.imread(img_path)\n",
    "    orig = image.copy()\n",
    "    orig1 = orig.copy()\n",
    "    # cv2.imshow(\"img\",image)\n",
    "    \n",
    "    \n",
    "    # detecting people in image\n",
    "    (rects, weights) = hog.detectMultiScale(image, winStride=(4,4),\n",
    "                    padding=(8,8), scale = 1.05)\n",
    "    \n",
    "    # drawing original bounding boxes\n",
    "    for (x, y, w, h) in rects:\n",
    "        cv2.rectangle(orig, (x,y), (x+w, y+h), (0,0,255), 3)\n",
    "    \n",
    "    # Applying non-maxima suppression\n",
    "    rects = np.array([[x, y, x+w, y+h] for (x, y, w, h) in rects])\n",
    "    pick = non_max_suppression(rects, probs=None, overlapThresh=0.65)\n",
    "    \n",
    "    # drawing final bounding boxes\n",
    "    for(xA, yA, xB, yB) in pick:\n",
    "        cv2.rectangle(image, (xA, yA), (xB, yB), (0,255,0), 3)\n",
    "    \n",
    "    img_name = img_path[img_path.rfind(\"/\")+1:]\n",
    "    print(\"Image: {}: {} original bounding boxes, {} after suppression\"\n",
    "         .format(img_name, len(rects), len(pick)))\n",
    "    \n",
    "    cv2.imshow(\"Original Image, bounding boxes and After NMS\", np.hstack([orig1, orig,image]))\n",
    "    # cv2.imshow(\"After NMS\", image)\n",
    "    cv2.waitKey(0)\n",
    "    \n",
    "    \n",
    "    \n",
    "    \n",
    "    \n",
    "    \n",
    "cv2.destroyAllWindows()    "
   ]
  },
  {
   "cell_type": "code",
   "execution_count": 17,
   "metadata": {},
   "outputs": [],
   "source": [
    "# cv2.destroyAllWindows()"
   ]
  },
  {
   "cell_type": "code",
   "execution_count": null,
   "metadata": {},
   "outputs": [],
   "source": []
  }
 ],
 "metadata": {
  "kernelspec": {
   "display_name": "Python 3",
   "language": "python",
   "name": "python3"
  },
  "language_info": {
   "codemirror_mode": {
    "name": "ipython",
    "version": 3
   },
   "file_extension": ".py",
   "mimetype": "text/x-python",
   "name": "python",
   "nbconvert_exporter": "python",
   "pygments_lexer": "ipython3",
   "version": "3.7.6"
  }
 },
 "nbformat": 4,
 "nbformat_minor": 4
}
