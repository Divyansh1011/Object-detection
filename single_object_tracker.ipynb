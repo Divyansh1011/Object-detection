{
 "cells": [
  {
   "cell_type": "code",
   "execution_count": 2,
   "metadata": {},
   "outputs": [],
   "source": [
    "import cv2"
   ]
  },
  {
   "cell_type": "code",
   "execution_count": 9,
   "metadata": {},
   "outputs": [
    {
     "ename": "SyntaxError",
     "evalue": "EOL while scanning string literal (<ipython-input-9-48d6a5642ad1>, line 4)",
     "output_type": "error",
     "traceback": [
      "\u001b[0;36m  File \u001b[0;32m\"<ipython-input-9-48d6a5642ad1>\"\u001b[0;36m, line \u001b[0;32m4\u001b[0m\n\u001b[0;31m    1 for MIL\\n \\\u001b[0m\n\u001b[0m                  \n^\u001b[0m\n\u001b[0;31mSyntaxError\u001b[0m\u001b[0;31m:\u001b[0m EOL while scanning string literal\n"
     ]
    }
   ],
   "source": [
    "def select_tracker_api():\n",
    "    api = input(\"Select the API to use for tracking, press\\n \\\n",
    "                   0 for BOOSTING\\n \\\n",
    "                   1 for MIL\\n \\ \n",
    "                   2 for KCF\\n \\\n",
    "                   3 for TLD\\n \\\n",
    "                   4 for MEDIANFLOW\\n \\\n",
    "                   5 for GOTURN\\n \\\n",
    "                   6 for MOSSE\\n \\\n",
    "                   7 for CSRT: \")\n",
    "    if api=='0':\n",
    "        tracker_api = cv2.TrackerBoosting_create()\n",
    "    elif api=='1':\n",
    "        tracker_api = cv2.TrackerMIL_create()\n",
    "    elif api=='2':\n",
    "        tracker_api = cv2.TrackerKCF_create()\n",
    "    elif api=='3':\n",
    "        tracker_api = cv2.TrackerTLD_create()\n",
    "    elif api=='4':\n",
    "        tracker_api = cv2.TrackerMedianFlow_create()\n",
    "    elif api=='5':\n",
    "        tracker_api = cv2.TrackerGOTURN_create()\n",
    "    elif api=='6':\n",
    "        tracker_api = cv2.TrackerMOSSE_create()\n",
    "    elif api=='7':\n",
    "        tracker_api = cv2.TrackerCSRT_create()\n",
    "        \n",
    "    return tracker_api\n",
    "                   "
   ]
  },
  {
   "cell_type": "code",
   "execution_count": 8,
   "metadata": {},
   "outputs": [
    {
     "name": "stdout",
     "output_type": "stream",
     "text": [
      "Select the API to use for tracking, press\n",
      "                    0 for BOOSTING\n",
      "1for MIL\n",
      "                   2 for KCF\n",
      "3 for TLD                   4 for MEDIANFLOW\n",
      "5 for GOTURN                   6 for MOSSE\n",
      "7 for CSRT: 6\n"
     ]
    }
   ],
   "source": [
    "tracker = select_tracker_api()\n",
    "tracker_name = str(tracker).split()[0][1:]\n",
    "\n",
    "cap = cv2.VideoCapture('videos/man.mp4')\n",
    "\n",
    "ret, frame = cap.read()\n",
    "roi = cv2.selectROI(frame, False)\n",
    "\n",
    "ret = tracker.init(frame, roi)\n",
    "\n",
    "while True:\n",
    "    ret, frame = cap.read()\n",
    "    \n",
    "    success, roi = tracker.update(frame)\n",
    "    (x,y,w,h) = tuple(map(int, roi))\n",
    "    \n",
    "    if success:\n",
    "        pts1 = (x,y)\n",
    "        pts2 = (x+w, y+h)\n",
    "        cv2.rectangle(frame, pts1, pts2, (255,125,25),3)\n",
    "        \n",
    "    else:\n",
    "        cv2.putText(frame, 'Could not track the object!',\n",
    "                   (100,200), cv2.FONT_HERSHEY_SIMPLEX,\n",
    "                   1,(255,120,100),3)\n",
    "\n",
    "    cv2.putText(frame, tracker_name,\n",
    "                   (20,400), cv2.FONT_HERSHEY_SIMPLEX,\n",
    "                   1,(255,10,200),3)\n",
    "    try:\n",
    "        cv2.imshow(tracker_name, frame)\n",
    "    except:\n",
    "        cap.release()\n",
    "        cv2.destroyAllWindows()\n",
    "        break        \n",
    "    \n",
    "    if cv2.waitKey(10) & 0xFF==27:\n",
    "        break\n",
    "\n",
    "cap.release()\n",
    "cv2.destroyAllWindows()\n",
    "\n",
    "        \n",
    "        "
   ]
  },
  {
   "cell_type": "code",
   "execution_count": 5,
   "metadata": {},
   "outputs": [],
   "source": [
    "cv2.destroyAllWindows()"
   ]
  },
  {
   "cell_type": "code",
   "execution_count": null,
   "metadata": {},
   "outputs": [],
   "source": []
  }
 ],
 "metadata": {
  "kernelspec": {
   "display_name": "Python 3",
   "language": "python",
   "name": "python3"
  },
  "language_info": {
   "codemirror_mode": {
    "name": "ipython",
    "version": 3
   },
   "file_extension": ".py",
   "mimetype": "text/x-python",
   "name": "python",
   "nbconvert_exporter": "python",
   "pygments_lexer": "ipython3",
   "version": "3.7.6"
  }
 },
 "nbformat": 4,
 "nbformat_minor": 4
}
