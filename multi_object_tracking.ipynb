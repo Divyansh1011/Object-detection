{
 "cells": [
  {
   "cell_type": "code",
   "execution_count": 7,
   "metadata": {},
   "outputs": [],
   "source": [
    "import cv2\n",
    "import sys\n",
    "from random import randint"
   ]
  },
  {
   "cell_type": "code",
   "execution_count": 12,
   "metadata": {},
   "outputs": [],
   "source": [
    "tracker_types = ['BOOSTING',\n",
    "                'MIL',\n",
    "                'KCF',\n",
    "                'TLD',\n",
    "                'MEDIANFLOW',\n",
    "                'GOTURN',\n",
    "                'MOSSE',\n",
    "                'CSRT']\n",
    "\n",
    "def get_tracker(tracker_type):\n",
    "    if tracker_type==tracker_types[0]:\n",
    "        tracker = cv2.TrackerBoosting_create()\n",
    "    elif tracker_type==tracker_types[1]:\n",
    "        tracker = cv2.TrackerMIL_create()\n",
    "    elif tracker_type==tracker_types[2]:\n",
    "        tracker = cv2.TrackerKCF_create()\n",
    "    elif tracker_type==tracker_types[3]:\n",
    "        tracker = cv2.TrackerTLD_create()\n",
    "    elif tracker_type==tracker_types[4]:\n",
    "        tracker = cv2.TrackerMedianFlow_create()\n",
    "    elif tracker_type==tracker_types[5]:\n",
    "        tracker = cv2.TrackerGOTURN_create()\n",
    "    elif tracker_type==tracker_types[6]:\n",
    "        tracker = cv2.TrackerMOSSE_create()\n",
    "    elif tracker_type==tracker_types[7]:\n",
    "        tracker = cv2.TrackerCSRT_create()\n",
    "    else:\n",
    "        tracker = cv2.TrackerMOSSE_create()\n",
    "    return tracker\n",
    "        "
   ]
  },
  {
   "cell_type": "code",
   "execution_count": 19,
   "metadata": {},
   "outputs": [
    {
     "name": "stdout",
     "output_type": "stream",
     "text": [
      "Press q to stop selecting objects and start multitracking\n",
      "Press enter to select another box\n",
      "Press q to stop selecting objects and start multitracking\n",
      "Press enter to select another box\n",
      "[(243, 80, 167), (96, 48, 192)]\n",
      "Selected objects [(270, 90, 137, 103), (407, 193, 0, 0)]\n"
     ]
    },
    {
     "ename": "error",
     "evalue": "OpenCV(4.2.0) /io/opencv/modules/imgproc/src/phasecorr.cpp:602: error: (-215:Assertion failed) winSize.width > 1 && winSize.height > 1 in function 'createHanningWindow'\n",
     "output_type": "error",
     "traceback": [
      "\u001b[0;31m---------------------------------------------------------------------------\u001b[0m",
      "\u001b[0;31merror\u001b[0m                                     Traceback (most recent call last)",
      "\u001b[0;32m<ipython-input-19-598a306ff5b6>\u001b[0m in \u001b[0;36m<module>\u001b[0;34m\u001b[0m\n\u001b[1;32m     26\u001b[0m     multitracker.add(get_tracker(tracker_type),\n\u001b[1;32m     27\u001b[0m                     \u001b[0mframe\u001b[0m\u001b[0;34m,\u001b[0m\u001b[0;34m\u001b[0m\u001b[0;34m\u001b[0m\u001b[0m\n\u001b[0;32m---> 28\u001b[0;31m                     rect)\n\u001b[0m\u001b[1;32m     29\u001b[0m \u001b[0;34m\u001b[0m\u001b[0m\n\u001b[1;32m     30\u001b[0m \u001b[0;32mwhile\u001b[0m \u001b[0mcap\u001b[0m\u001b[0;34m.\u001b[0m\u001b[0misOpened\u001b[0m\u001b[0;34m(\u001b[0m\u001b[0;34m)\u001b[0m\u001b[0;34m:\u001b[0m\u001b[0;34m\u001b[0m\u001b[0;34m\u001b[0m\u001b[0m\n",
      "\u001b[0;31merror\u001b[0m: OpenCV(4.2.0) /io/opencv/modules/imgproc/src/phasecorr.cpp:602: error: (-215:Assertion failed) winSize.width > 1 && winSize.height > 1 in function 'createHanningWindow'\n"
     ]
    }
   ],
   "source": [
    "tracker_type = 'MOSSE'\n",
    "\n",
    "cap = cv2.VideoCapture('videos/car.mp4')\n",
    "success, frame = cap.read()\n",
    "\n",
    "if not success:\n",
    "    print('Unable to read video')\n",
    "    \n",
    "rects = []\n",
    "colors = []\n",
    "\n",
    "while True:\n",
    "    rect_box = cv2.selectROI('MultiTracker', frame)\n",
    "    rects.append(rect_box)\n",
    "    colors.append((randint(64,255),randint(10,130),randint(150,210)))\n",
    "    print('Press q to stop selecting objects and start multitracking')\n",
    "    print('Press enter to select another box')    \n",
    "    \n",
    "    if cv2.waitKey(0) & 0xFF==113:\n",
    "        break\n",
    "print(colors)        \n",
    "print(f\"Selected objects {rects}\")        \n",
    "multitracker = cv2.MultiTracker_create()\n",
    "\n",
    "for rect in rects:\n",
    "    multitracker.add(get_tracker(tracker_type),\n",
    "                    frame,\n",
    "                    rect)\n",
    "\n",
    "while cap.isOpened():\n",
    "    ret, frame = cap.read()\n",
    "    if not ret:\n",
    "        break\n",
    "    \n",
    "    ret, boxes = multitracker.update(frame)\n",
    "    \n",
    "    for i, new_rect in enumerate(boxes):\n",
    "        pts1 = (int(new_rect[0]),\n",
    "               int(new_rect[1]))\n",
    "        pts2 = (int(new_rect[0]+new_rect[2]),\n",
    "               int(new_rect[1]+new_rect[3]))\n",
    "        print(pts1,pts2)\n",
    "        cv2.rectangle(frame, \n",
    "                     pts1,\n",
    "                     pts2,\n",
    "                     colors[i],\n",
    "                     2)\n",
    "    cv2.imshow('Multi-tracker', frame)\n",
    "    if cv2.waitKey(20) & 0xFF==27:\n",
    "        break\n",
    "        \n",
    "cap.release()\n",
    "cv2.destroyAllWindows()\n",
    "        "
   ]
  },
  {
   "cell_type": "code",
   "execution_count": 20,
   "metadata": {},
   "outputs": [],
   "source": [
    "cv2.destroyAllWindows()\n"
   ]
  },
  {
   "cell_type": "code",
   "execution_count": null,
   "metadata": {},
   "outputs": [],
   "source": []
  }
 ],
 "metadata": {
  "kernelspec": {
   "display_name": "Python 3",
   "language": "python",
   "name": "python3"
  },
  "language_info": {
   "codemirror_mode": {
    "name": "ipython",
    "version": 3
   },
   "file_extension": ".py",
   "mimetype": "text/x-python",
   "name": "python",
   "nbconvert_exporter": "python",
   "pygments_lexer": "ipython3",
   "version": "3.7.6"
  }
 },
 "nbformat": 4,
 "nbformat_minor": 4
}
